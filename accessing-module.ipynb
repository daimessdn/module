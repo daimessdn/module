{
 "cells": [
  {
   "cell_type": "code",
   "execution_count": 1,
   "id": "5742f455-6b4e-48a8-91ef-679565fd5900",
   "metadata": {},
   "outputs": [],
   "source": [
    "# Importig mymodule.py as mx\n",
    "import mymodule as mx"
   ]
  },
  {
   "cell_type": "code",
   "execution_count": 3,
   "id": "efb63fc0-66e6-45d0-9db6-7cffe7de1bf9",
   "metadata": {},
   "outputs": [
    {
     "name": "stdout",
     "output_type": "stream",
     "text": [
      "bambang\n"
     ]
    }
   ],
   "source": [
    "# Accesssing mymodule variable using mx\n",
    "a = mx.person1[\"name\"]\n",
    "print(a)"
   ]
  },
  {
   "cell_type": "code",
   "execution_count": 2,
   "id": "39c27a4d-dd53-4063-b18e-6691a10ca6c4",
   "metadata": {},
   "outputs": [
    {
     "name": "stdout",
     "output_type": "stream",
     "text": [
      "hello, world!\n"
     ]
    }
   ],
   "source": [
    "# importing one instance only using \"from\"\n",
    "from mymodule import greeting\n",
    "greeting(\"world\")"
   ]
  },
  {
   "cell_type": "code",
   "execution_count": null,
   "id": "f2a68901-66a9-4084-99af-ca82c399f72a",
   "metadata": {},
   "outputs": [],
   "source": []
  }
 ],
 "metadata": {
  "kernelspec": {
   "display_name": "Python 3 (ipykernel)",
   "language": "python",
   "name": "python3"
  },
  "language_info": {
   "codemirror_mode": {
    "name": "ipython",
    "version": 3
   },
   "file_extension": ".py",
   "mimetype": "text/x-python",
   "name": "python",
   "nbconvert_exporter": "python",
   "pygments_lexer": "ipython3",
   "version": "3.8.10"
  }
 },
 "nbformat": 4,
 "nbformat_minor": 5
}
